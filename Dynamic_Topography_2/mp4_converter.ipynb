import cv2, os, re
from pathlib import Path 

# Define paths 
root = Path.cwd()
data_3d_path = root / 'Outputs_3D'
animation_path = root / 'Animations' 


# Ensure animation output folder exists 
os.makedirs(animation_path, exist_ok = True)

# Function to extract geological time from filename 
def extract_time(filename: str) -> float: 
    match = re.search(r'(\d+(?:\.\d+)?)Ma', filename)
    return float(match.group(1)) if match else float('inf')

# Get and sort image files by extracted time 
images3d_files = sorted( 
    (f for f in data_3d_path.glob("*.jpg") if f.is_file()), 
    key = lambda f: extract_time(f.name)   
)
print(f"Found{len(images3d_files)} JPEG files.")

if not images3d_files:
    raise FileNotFoundError(f"No JPEGs found in {data_3d_path}")